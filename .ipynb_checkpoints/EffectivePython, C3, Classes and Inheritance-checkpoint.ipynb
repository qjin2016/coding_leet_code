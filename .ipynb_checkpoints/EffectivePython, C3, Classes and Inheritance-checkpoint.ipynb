{
 "cells": [
  {
   "cell_type": "code",
   "execution_count": null,
   "metadata": {
    "collapsed": true
   },
   "outputs": [],
   "source": []
  },
  {
   "cell_type": "markdown",
   "metadata": {},
   "source": [
    "### 23"
   ]
  },
  {
   "cell_type": "code",
   "execution_count": 5,
   "metadata": {
    "collapsed": true
   },
   "outputs": [],
   "source": [
    "from collections import defaultdict"
   ]
  },
  {
   "cell_type": "code",
   "execution_count": 2,
   "metadata": {
    "collapsed": true
   },
   "outputs": [],
   "source": [
    "current = {'green': 12, 'blue': 3}\n",
    "increments = [('red', 5), ('blue', 17), ('orange', 9)]"
   ]
  },
  {
   "cell_type": "code",
   "execution_count": 9,
   "metadata": {
    "collapsed": true
   },
   "outputs": [],
   "source": [
    "# __call__ allows classes to behave like a function\n",
    "class BetterCountMissing(object):\n",
    "    def __init__(self):\n",
    "        self.added = 0\n",
    "        \n",
    "    def __call__(self):\n",
    "        self.added += 1\n",
    "        return 0"
   ]
  },
  {
   "cell_type": "code",
   "execution_count": 6,
   "metadata": {
    "collapsed": false
   },
   "outputs": [],
   "source": [
    "counter = BetterCountMissing()\n",
    "result = defaultdict(counter, current)\n",
    "\n",
    "for key, amount in increments:\n",
    "    result[key] += amount\n",
    "    \n",
    "assert counter.added == 2"
   ]
  },
  {
   "cell_type": "code",
   "execution_count": 10,
   "metadata": {
    "collapsed": false
   },
   "outputs": [
    {
     "name": "stdout",
     "output_type": "stream",
     "text": [
      "['Plato', 'socrates', 'Aristotle']\n"
     ]
    }
   ],
   "source": [
    "# sorting\n",
    "names = ['socrates', 'Plato', 'Aristotle']\n",
    "names.sort(key = lambda x: len(x))\n",
    "print(names)"
   ]
  },
  {
   "cell_type": "markdown",
   "metadata": {},
   "source": [
    "### 24"
   ]
  },
  {
   "cell_type": "code",
   "execution_count": 14,
   "metadata": {
    "collapsed": false
   },
   "outputs": [
    {
     "name": "stdout",
     "output_type": "stream",
     "text": [
      "Hi, from Base\n",
      "Hi, from A\n",
      "Hi, from B\n"
     ]
    }
   ],
   "source": [
    "# how to use @classmethod\n",
    "# self is used in instance methods, cls is often used in class methods\n",
    "'''\n",
    "A class method is a method that is bound to a class rather than its object. \n",
    "It doesn't require creation of a class instance, much like staticmethod.\n",
    "\n",
    "Basically, we can consider @classmethod as the initializer for functions in a class, \n",
    "typically used as a factory method for preprocessing incoming data\n",
    "\n",
    "-- https://www.programiz.com/python-programming/methods/built-in/classmethod\n",
    "'''\n",
    "class Base(object):\n",
    "    @classmethod\n",
    "    def hi_from(cls):\n",
    "        print (\"Hi, from %s\" % cls.__name__)\n",
    "\n",
    "class A(Base):\n",
    "    pass\n",
    "\n",
    "class B(Base):\n",
    "    pass\n",
    "\n",
    "Base.hi_from()\n",
    "A.hi_from()\n",
    "B.hi_from()"
   ]
  },
  {
   "cell_type": "code",
   "execution_count": 16,
   "metadata": {
    "collapsed": false
   },
   "outputs": [],
   "source": [
    "# abstract methods\n",
    "import abc\n",
    "\n",
    "class BasePizza(object):\n",
    "    __metaclass__ = abc.ABCMeta\n",
    "    \n",
    "    default_ingredients = ['cheese']\n",
    "    \n",
    "    @classmethod\n",
    "    @abc.abstractmethod\n",
    "    def get_ingredients(cls):\n",
    "        return cls.default_ingredients\n",
    "    \n",
    "class DietPizza(BasePizza):\n",
    "    def get_ingredients(self):\n",
    "        return ['egg'] + super(DietPizza, self).get_ingredients()"
   ]
  },
  {
   "cell_type": "code",
   "execution_count": 18,
   "metadata": {
    "collapsed": false
   },
   "outputs": [
    {
     "data": {
      "text/plain": [
       "['egg', 'cheese']"
      ]
     },
     "execution_count": 18,
     "metadata": {},
     "output_type": "execute_result"
    }
   ],
   "source": [
    "DietPizza().get_ingredients()"
   ]
  },
  {
   "cell_type": "code",
   "execution_count": null,
   "metadata": {
    "collapsed": true
   },
   "outputs": [],
   "source": []
  }
 ],
 "metadata": {
  "kernelspec": {
   "display_name": "Python [Root]",
   "language": "python",
   "name": "Python [Root]"
  },
  "language_info": {
   "codemirror_mode": {
    "name": "ipython",
    "version": 3
   },
   "file_extension": ".py",
   "mimetype": "text/x-python",
   "name": "python",
   "nbconvert_exporter": "python",
   "pygments_lexer": "ipython3",
   "version": "3.5.1"
  }
 },
 "nbformat": 4,
 "nbformat_minor": 0
}
