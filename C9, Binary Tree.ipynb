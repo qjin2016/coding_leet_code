{
 "cells": [
  {
   "cell_type": "code",
   "execution_count": null,
   "metadata": {
    "collapsed": true
   },
   "outputs": [],
   "source": []
  },
  {
   "cell_type": "code",
   "execution_count": 1,
   "metadata": {
    "collapsed": true
   },
   "outputs": [],
   "source": [
    "class BinaryTree(object):\n",
    "    def __init__(self, data = None, left = None, right = None):\n",
    "        self.data = data\n",
    "        self.left = left\n",
    "        self.right = right"
   ]
  },
  {
   "cell_type": "code",
   "execution_count": 2,
   "metadata": {
    "collapsed": true
   },
   "outputs": [],
   "source": [
    "binary_tree1 = BinaryTree(0)"
   ]
  },
  {
   "cell_type": "code",
   "execution_count": 6,
   "metadata": {
    "collapsed": false
   },
   "outputs": [],
   "source": [
    "binary_tree1.left = BinaryTree(1)\n",
    "binary_tree1.right = BinaryTree(2)\n",
    "binary_tree1.left.left = BinaryTree(3)\n",
    "binary_tree1.left.right = BinaryTree(4)\n",
    "binary_tree1.right.left = BinaryTree(5)\n",
    "binary_tree1.right.right = BinaryTree(6)"
   ]
  },
  {
   "cell_type": "markdown",
   "metadata": {},
   "source": [
    "### traverse"
   ]
  },
  {
   "cell_type": "code",
   "execution_count": 7,
   "metadata": {
    "collapsed": false
   },
   "outputs": [
    {
     "name": "stdout",
     "output_type": "stream",
     "text": [
      "0\n",
      "1\n",
      "3\n",
      "4\n",
      "2\n",
      "5\n",
      "6\n"
     ]
    }
   ],
   "source": [
    "def preorder_traversal(root):\n",
    "    if root:\n",
    "        print(root.data)\n",
    "        preorder_traversal(root.left)\n",
    "        preorder_traversal(root.right)\n",
    "        \n",
    "preorder_traversal(binary_tree1)"
   ]
  },
  {
   "cell_type": "code",
   "execution_count": 8,
   "metadata": {
    "collapsed": false
   },
   "outputs": [
    {
     "name": "stdout",
     "output_type": "stream",
     "text": [
      "1\n",
      "3\n",
      "4\n",
      "0\n",
      "2\n",
      "5\n",
      "6\n"
     ]
    }
   ],
   "source": [
    "def inorder_traversal(root):\n",
    "    if root:\n",
    "        preorder_traversal(root.left)\n",
    "        print(root.data)\n",
    "        preorder_traversal(root.right)\n",
    "        \n",
    "inorder_traversal(binary_tree1)"
   ]
  },
  {
   "cell_type": "code",
   "execution_count": 10,
   "metadata": {
    "collapsed": false
   },
   "outputs": [
    {
     "name": "stdout",
     "output_type": "stream",
     "text": [
      "1\n",
      "3\n",
      "4\n",
      "2\n",
      "5\n",
      "6\n",
      "0\n"
     ]
    }
   ],
   "source": [
    "def postorder_traversal(root):\n",
    "    if root:\n",
    "        preorder_traversal(root.left)\n",
    "        preorder_traversal(root.right)\n",
    "        print(root.data)\n",
    "        \n",
    "postorder_traversal(binary_tree1)"
   ]
  },
  {
   "cell_type": "code",
   "execution_count": null,
   "metadata": {
    "collapsed": true
   },
   "outputs": [],
   "source": []
  }
 ],
 "metadata": {
  "anaconda-cloud": {},
  "kernelspec": {
   "display_name": "Python [Root]",
   "language": "python",
   "name": "Python [Root]"
  },
  "language_info": {
   "codemirror_mode": {
    "name": "ipython",
    "version": 3
   },
   "file_extension": ".py",
   "mimetype": "text/x-python",
   "name": "python",
   "nbconvert_exporter": "python",
   "pygments_lexer": "ipython3",
   "version": "3.5.1"
  }
 },
 "nbformat": 4,
 "nbformat_minor": 0
}
